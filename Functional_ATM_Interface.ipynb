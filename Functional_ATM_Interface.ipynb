{
  "nbformat": 4,
  "nbformat_minor": 0,
  "metadata": {
    "colab": {
      "provenance": [],
      "authorship_tag": "ABX9TyP5etCExTAtaZIk1tgMLLP2",
      "include_colab_link": true
    },
    "kernelspec": {
      "name": "python3",
      "display_name": "Python 3"
    },
    "language_info": {
      "name": "python"
    }
  },
  "cells": [
    {
      "cell_type": "markdown",
      "metadata": {
        "id": "view-in-github",
        "colab_type": "text"
      },
      "source": [
        "<a href=\"https://colab.research.google.com/github/B-7792/Functional-ATM-Interface/blob/main/Functional_ATM_Interface.ipynb\" target=\"_parent\"><img src=\"https://colab.research.google.com/assets/colab-badge.svg\" alt=\"Open In Colab\"/></a>"
      ]
    },
    {
      "cell_type": "code",
      "execution_count": 1,
      "metadata": {
        "colab": {
          "base_uri": "https://localhost:8080/"
        },
        "id": "XT59y7AFOqsK",
        "outputId": "eed372c8-c92f-455b-90f8-a6264dbae587"
      },
      "outputs": [
        {
          "output_type": "stream",
          "name": "stdout",
          "text": [
            "Enter your 4-digit PIN: 1234\n",
            "PIN verified.\n",
            "\n",
            "----- ATM Menu -----\n",
            "1. Balance Inquiry\n",
            "2. Deposit\n",
            "3. Withdraw\n",
            "4. Exit\n",
            "Choose an option (1/2/3/4): 1\n",
            "Your current balance is: $1000.00\n",
            "\n",
            "----- ATM Menu -----\n",
            "1. Balance Inquiry\n",
            "2. Deposit\n",
            "3. Withdraw\n",
            "4. Exit\n",
            "Choose an option (1/2/3/4): 2\n",
            "Enter amount to deposit: $3\n",
            "Deposited: $3.00. New balance: $1003.00\n",
            "\n",
            "----- ATM Menu -----\n",
            "1. Balance Inquiry\n",
            "2. Deposit\n",
            "3. Withdraw\n",
            "4. Exit\n",
            "Choose an option (1/2/3/4): 4\n",
            "Thank you for using the ATM. Goodbye!\n"
          ]
        }
      ],
      "source": [
        "class ATM:\n",
        "    def __init__(self, balance=0.0, pin=1234):\n",
        "        self.balance = balance\n",
        "        self.pin = pin\n",
        "\n",
        "    def check_pin(self):\n",
        "        entered_pin = int(input(\"Enter your 4-digit PIN: \"))\n",
        "        if entered_pin == self.pin:\n",
        "            print(\"PIN verified.\")\n",
        "            return True\n",
        "        else:\n",
        "            print(\"Incorrect PIN.\")\n",
        "            return False\n",
        "\n",
        "    def show_menu(self):\n",
        "        print(\"\\n----- ATM Menu -----\")\n",
        "        print(\"1. Balance Inquiry\")\n",
        "        print(\"2. Deposit\")\n",
        "        print(\"3. Withdraw\")\n",
        "        print(\"4. Exit\")\n",
        "\n",
        "    def balance_inquiry(self):\n",
        "        print(f\"Your current balance is: ${self.balance:.2f}\")\n",
        "\n",
        "    def deposit(self):\n",
        "        amount = float(input(\"Enter amount to deposit: $\"))\n",
        "        if amount > 0:\n",
        "            self.balance += amount\n",
        "            print(f\"Deposited: ${amount:.2f}. New balance: ${self.balance:.2f}\")\n",
        "        else:\n",
        "            print(\"Invalid deposit amount.\")\n",
        "\n",
        "    def withdraw(self):\n",
        "        amount = float(input(\"Enter amount to withdraw: $\"))\n",
        "        if amount > 0 and amount <= self.balance:\n",
        "            self.balance -= amount\n",
        "            print(f\"Withdrawn: ${amount:.2f}. New balance: ${self.balance:.2f}\")\n",
        "        elif amount > self.balance:\n",
        "            print(\"Insufficient balance.\")\n",
        "        else:\n",
        "            print(\"Invalid withdrawal amount.\")\n",
        "\n",
        "    def run(self):\n",
        "        if not self.check_pin():\n",
        "            return\n",
        "\n",
        "        while True:\n",
        "            self.show_menu()\n",
        "            option = input(\"Choose an option (1/2/3/4): \")\n",
        "\n",
        "            if option == \"1\":\n",
        "                self.balance_inquiry()\n",
        "            elif option == \"2\":\n",
        "                self.deposit()\n",
        "            elif option == \"3\":\n",
        "                self.withdraw()\n",
        "            elif option == \"4\":\n",
        "                print(\"Thank you for using the ATM. Goodbye!\")\n",
        "                break\n",
        "            else:\n",
        "                print(\"Invalid option. Please try again.\")\n",
        "\n",
        "\n",
        "# Initialize the ATM with a default balance\n",
        "atm = ATM(balance=1000.0)\n",
        "atm.run()\n"
      ]
    }
  ]
}